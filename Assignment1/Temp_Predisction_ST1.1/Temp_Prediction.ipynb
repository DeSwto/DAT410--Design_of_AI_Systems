{
 "cells": [
  {
   "cell_type": "code",
   "execution_count": 3,
   "id": "0362a36f-3917-4cfa-a8c5-31f881fcaeca",
   "metadata": {},
   "outputs": [],
   "source": [
    "import pandas as pd\n",
    "import numpy as np\n",
    "from sklearn.model_selection import train_test_split\n",
    "from sklearn.ensemble import RandomForestRegressor\n",
    "from sklearn.metrics import mean_absolute_error, mean_squared_error\n",
    "from datetime import datetime, timedelta\n",
    "\n",
    "#dataset\n",
    "data = pd.read_csv(\"weather_1jan2020_24jan2025.csv\")\n",
    "\n",
    "#\"date\" column to datetime with dayfirst=True\n",
    "data['date'] = pd.to_datetime(data['date'], dayfirst=True)\n",
    "\n",
    "#feature extraction\n",
    "data['day'] = data['date'].dt.day\n",
    "data['month'] = data['date'].dt.month\n",
    "data['year'] = data['date'].dt.year\n",
    "data['day_of_year'] = data['date'].dt.dayofyear\n",
    "data['day_of_week'] = data['date'].dt.dayofweek"
   ]
  },
  {
   "cell_type": "code",
   "execution_count": 4,
   "id": "e46e6165-6523-4d33-8bcc-f9ed225a9593",
   "metadata": {},
   "outputs": [
    {
     "name": "stdout",
     "output_type": "stream",
     "text": [
      "0   2020-01-01\n",
      "1   2020-01-02\n",
      "2   2020-01-03\n",
      "3   2020-01-04\n",
      "4   2020-01-05\n",
      "Name: date, dtype: datetime64[ns]\n",
      "<class 'pandas.core.frame.DataFrame'>\n",
      "RangeIndex: 1853 entries, 0 to 1852\n",
      "Data columns (total 15 columns):\n",
      " #   Column       Non-Null Count  Dtype         \n",
      "---  ------       --------------  -----         \n",
      " 0   date         1851 non-null   datetime64[ns]\n",
      " 1   tavg         1851 non-null   float64       \n",
      " 2   tmin         1851 non-null   float64       \n",
      " 3   tmax         1851 non-null   float64       \n",
      " 4   prcp         960 non-null    float64       \n",
      " 5   snow         0 non-null      float64       \n",
      " 6   wdir         1851 non-null   float64       \n",
      " 7   wspd         1851 non-null   float64       \n",
      " 8   wpgt         1851 non-null   float64       \n",
      " 9   pres         1851 non-null   float64       \n",
      " 10  day          1851 non-null   float64       \n",
      " 11  month        1851 non-null   float64       \n",
      " 12  year         1851 non-null   float64       \n",
      " 13  day_of_year  1851 non-null   float64       \n",
      " 14  day_of_week  1851 non-null   float64       \n",
      "dtypes: datetime64[ns](1), float64(14)\n",
      "memory usage: 217.3 KB\n",
      "None\n"
     ]
    }
   ],
   "source": [
    "print(data['date'].head())\n",
    "print(data.info())"
   ]
  },
  {
   "cell_type": "code",
   "execution_count": 5,
   "id": "f36ee70e-ad78-4717-b108-d3d93501d587",
   "metadata": {},
   "outputs": [
    {
     "name": "stdout",
     "output_type": "stream",
     "text": [
      "Mean Absolute Error: 0.69°C\n",
      "Root Mean Squared Error: 1.00°C\n"
     ]
    }
   ],
   "source": [
    "#Drop unnecessary columns\n",
    "data = data.drop(columns=['snow'])\n",
    "\n",
    "#lag features\n",
    "for lag in [1, 7, 30]:  # Lag values: 1 day, 7 days, 30 days\n",
    "    data[f'tavg_lag_{lag}'] = data['tavg'].shift(lag)\n",
    "    data[f'prcp_lag_{lag}'] = data['prcp'].shift(lag)\n",
    "\n",
    "# Drop rows with missing lag values (caused by shifting)\n",
    "data = data.dropna()\n",
    "\n",
    "#features and target\n",
    "features = [\n",
    "    'day', 'month', 'day_of_year', 'day_of_week', 'tmin', 'tmax', 'prcp',\n",
    "    'wdir', 'wspd', 'wpgt', 'pres',\n",
    "    'tavg_lag_1', 'tavg_lag_7', 'tavg_lag_30',\n",
    "    'prcp_lag_1', 'prcp_lag_7', 'prcp_lag_30'\n",
    "]\n",
    "target = 'tavg'\n",
    "\n",
    "#Train-test split\n",
    "#data up to 2024 for training and 2025 for testing\n",
    "train_data = data[data['year'] <= 2024]\n",
    "test_data = data[data['year'] == 2025]\n",
    "\n",
    "X_train = train_data[features]\n",
    "y_train = train_data[target]\n",
    "X_test = test_data[features]\n",
    "y_test = test_data[target]\n",
    "\n",
    "#training of the Random Forest Regressor\n",
    "model = RandomForestRegressor(n_estimators=100, random_state=42)\n",
    "model.fit(X_train, y_train)\n",
    "\n",
    "#evaluation\n",
    "y_pred = model.predict(X_test)\n",
    "mae = mean_absolute_error(y_test, y_pred)\n",
    "rmse = np.sqrt(mean_squared_error(y_test, y_pred))\n",
    "\n",
    "print(f\"Mean Absolute Error: {mae:.2f}°C\")\n",
    "print(f\"Root Mean Squared Error: {rmse:.2f}°C\")"
   ]
  },
  {
   "cell_type": "code",
   "execution_count": 6,
   "id": "ad58fc60-2528-49e7-a59c-8edf8a36a816",
   "metadata": {},
   "outputs": [],
   "source": [
    "def prepare_features_for_prediction(data, target_date):\n",
    "    \"\"\"\n",
    "    Preparing features for a future date by applying feature engineering logic\n",
    "    and calculating lag values dynamically from the dataset\n",
    "    \"\"\"\n",
    "    #dataset is sorted by date\n",
    "    data = data.sort_values('date')\n",
    "    \n",
    "    #recent rows to compute lag features\n",
    "    recent_data = data[data['date'] < target_date].iloc[-30:]  # Use up to 30 days before target_date\n",
    "    \n",
    "    #input features for the target date\n",
    "    features = {\n",
    "        'day': target_date.day,\n",
    "        'month': target_date.month,\n",
    "        'day_of_year': target_date.timetuple().tm_yday,\n",
    "        'day_of_week': target_date.weekday(),\n",
    "        'tmin': recent_data['tmin'].iloc[-1],\n",
    "        'tmax': recent_data['tmax'].iloc[-1],\n",
    "        'prcp': recent_data['prcp'].iloc[-1],\n",
    "        'wdir': recent_data['wdir'].iloc[-1],\n",
    "        'wspd': recent_data['wspd'].iloc[-1],\n",
    "        'wpgt': recent_data['wpgt'].iloc[-1],\n",
    "        'pres': recent_data['pres'].iloc[-1],\n",
    "        'tavg_lag_1': recent_data['tavg'].iloc[-1],\n",
    "        'tavg_lag_7': recent_data['tavg'].iloc[-7] if len(recent_data) >= 7 else np.nan,\n",
    "        'tavg_lag_30': recent_data['tavg'].iloc[-30] if len(recent_data) >= 30 else np.nan,\n",
    "        'prcp_lag_1': recent_data['prcp'].iloc[-1],\n",
    "        'prcp_lag_7': recent_data['prcp'].iloc[-7] if len(recent_data) >= 7 else np.nan,\n",
    "        'prcp_lag_30': recent_data['prcp'].iloc[-30] if len(recent_data) >= 30 else np.nan\n",
    "    }\n",
    "    \n",
    "    return pd.DataFrame([features])"
   ]
  },
  {
   "cell_type": "code",
   "execution_count": 7,
   "id": "6bb44988-9fc8-4945-98a2-c53346839845",
   "metadata": {},
   "outputs": [
    {
     "name": "stdout",
     "output_type": "stream",
     "text": [
      "Predicted Temperature for this date (Saturday) next week (1/2/2025) is:)01/02/2025: 4.37°C\n"
     ]
    }
   ],
   "source": [
    "target_date = datetime(2025, 2, 1)  \n",
    "features_for_target_date = prepare_features_for_prediction(data, target_date)\n",
    "\n",
    "predicted_temp = model.predict(features_for_target_date)[0]\n",
    "print(f\"Predicted Temperature for this date (Saturday) next week (1/2/2025) is:){target_date.strftime('%d/%m/%Y')}: {predicted_temp:.2f}°C\")"
   ]
  },
  {
   "cell_type": "code",
   "execution_count": 8,
   "id": "1a173d39-dc54-4ac2-a9df-c4f9e9f7ecef",
   "metadata": {},
   "outputs": [
    {
     "name": "stdout",
     "output_type": "stream",
     "text": [
      "Predicted Temperature for this date (Saturday) next year (25/1/2026) is:)25/01/2026: 4.40°C\n"
     ]
    }
   ],
   "source": [
    "target_date = datetime(2026, 1, 25)  \n",
    "features_for_target_date = prepare_features_for_prediction(data, target_date)\n",
    "\n",
    "predicted_temp = model.predict(features_for_target_date)[0]\n",
    "print(f\"Predicted Temperature for this date (Saturday) next year (25/1/2026) is:){target_date.strftime('%d/%m/%Y')}: {predicted_temp:.2f}°C\")"
   ]
  },
  {
   "cell_type": "code",
   "execution_count": 9,
   "id": "07a752e6-e43b-416f-b18e-d0ff5d7adfea",
   "metadata": {},
   "outputs": [
    {
     "name": "stdout",
     "output_type": "stream",
     "text": [
      "Predicted Temperature for this date (Saturday) next year (25/1/2025) is:)26/01/2025: 4.40°C\n",
      "According to Meteostat the average temperatur on 28/1/2025 was 4.8°C, and based om Apple's weather app: 4.5°C (3°C lowest & 6°C highest) \n"
     ]
    }
   ],
   "source": [
    "target_date = datetime(2025, 1, 26)  \n",
    "features_for_target_date = prepare_features_for_prediction(data, target_date)\n",
    "\n",
    "predicted_temp = model.predict(features_for_target_date)[0]\n",
    "print(f\"Predicted Temperature for this date (Saturday) next year (25/1/2025) is:){target_date.strftime('%d/%m/%Y')}: {predicted_temp:.2f}°C\")\n",
    "print(\"According to Meteostat the average temperatur on 28/1/2025 was 4.8°C, and based om Apple's weather app: 4.5°C (3°C lowest & 6°C highest) \")"
   ]
  },
  {
   "cell_type": "code",
   "execution_count": 13,
   "id": "b684b8ed-fb10-4150-9656-bc420d69b06c",
   "metadata": {},
   "outputs": [
    {
     "name": "stdout",
     "output_type": "stream",
     "text": [
      "Predicted Temperature for (1/8/2024) was:)01/08/2024: 16.74°C\n",
      "According to Meteostat the average temperatur on 28/1/2025 was 1/8/2024 was: 16.5°C \n"
     ]
    }
   ],
   "source": [
    "target_date = datetime(2024, 8, 1) \n",
    "features_for_target_date = prepare_features_for_prediction(data, target_date)\n",
    "\n",
    "predicted_temp = model.predict(features_for_target_date)[0]\n",
    "print(f\"Predicted Temperature for (1/8/2024) was:){target_date.strftime('%d/%m/%Y')}: {predicted_temp:.2f}°C\")\n",
    "print(\"According to Meteostat the average temperatur on 28/1/2025 was 1/8/2024 was: 16.5°C \")"
   ]
  },
  {
   "cell_type": "code",
   "execution_count": null,
   "id": "86aa3cd8-65ae-4b2e-a579-9c7967f5210e",
   "metadata": {},
   "outputs": [],
   "source": []
  }
 ],
 "metadata": {
  "kernelspec": {
   "display_name": "Python 3 (ipykernel)",
   "language": "python",
   "name": "python3"
  },
  "language_info": {
   "codemirror_mode": {
    "name": "ipython",
    "version": 3
   },
   "file_extension": ".py",
   "mimetype": "text/x-python",
   "name": "python",
   "nbconvert_exporter": "python",
   "pygments_lexer": "ipython3",
   "version": "3.11.10"
  }
 },
 "nbformat": 4,
 "nbformat_minor": 5
}
